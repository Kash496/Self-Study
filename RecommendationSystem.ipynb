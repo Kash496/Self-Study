{
 "cells": [
  {
   "cell_type": "code",
   "execution_count": null,
   "metadata": {},
   "outputs": [],
   "source": [
    "import pandas as pd\n",
    "import numpy as np\n",
    "movies = pd.read_csv(r\"C:\\Users\\Aishu\\Desktop\\MS Information Systems\\Aishwarya\\Data Analysis\\movies.csv\")\n",
    "ratings = pd.read_csv(r\"C:\\Users\\Aishu\\Desktop\\MS Information Systems\\Aishwarya\\Data Analysis\\ratings.csv\")\n",
    "# movies.head()\n",
    "print('Hoi')\n"
   ]
  },
  {
   "cell_type": "code",
   "execution_count": null,
   "metadata": {},
   "outputs": [],
   "source": []
  }
 ],
 "metadata": {
  "kernelspec": {
   "display_name": "Python 3",
   "language": "python",
   "name": "python3"
  },
  "language_info": {
   "codemirror_mode": {
    "name": "ipython",
    "version": 3
   },
   "file_extension": ".py",
   "mimetype": "text/x-python",
   "name": "python",
   "nbconvert_exporter": "python",
   "pygments_lexer": "ipython3",
   "version": "3.7.3"
  }
 },
 "nbformat": 4,
 "nbformat_minor": 2
}
